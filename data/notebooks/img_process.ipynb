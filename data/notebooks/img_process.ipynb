{
 "cells": [
  {
   "cell_type": "markdown",
   "metadata": {},
   "source": [
    "# Image Dimmensions"
   ]
  },
  {
   "cell_type": "code",
   "execution_count": 1,
   "metadata": {},
   "outputs": [],
   "source": [
    "import numpy as np\n",
    "import pandas as pd\n",
    "from PIL import Image\n",
    "import cv2\n",
    "import os\n",
    "import math\n",
    "import matplotlib.pyplot as plt"
   ]
  },
  {
   "cell_type": "code",
   "execution_count": 2,
   "metadata": {},
   "outputs": [],
   "source": [
    "\n",
    "test_data=pd.read_csv('archive/im2latex_test.csv')\n",
    "train_data=pd.read_csv('archive/im2latex_train.csv')\n",
    "val_data=pd.read_csv('archive/im2latex_validate.csv')"
   ]
  },
  {
   "cell_type": "code",
   "execution_count": 3,
   "metadata": {},
   "outputs": [],
   "source": [
    "def Write_Image_Sizes(filenames,storage_file):\n",
    "    \"\"\"\n",
    "    Takes the File names, writes the width and height of images in csv along with file names\n",
    "    \"\"\"\n",
    "    store_file=open(storage_file,'w+')\n",
    "    store_file.write(\"ImageName,Height,Width\")\n",
    "    store_file.write(\"\\n\")\n",
    "    cnt=0\n",
    "    for file in filenames:\n",
    "        cv_img=cv2.imread(\"archive/formula_images_processed/formula_images_processed/\" + file)\n",
    "        #img.shape gives (img_height,img_width,img_channel)\n",
    "        store_file.write(str(file)+\",\"+str(cv_img.shape[0])+\",\"+str(cv_img.shape[1]))\n",
    "        store_file.write(\"\\n\")\n",
    "        cnt+=1\n",
    "        if cnt%10000==0:\n",
    "            print(\"Processed Images: \",cnt)\n",
    "    store_file.close()       "
   ]
  },
  {
   "cell_type": "code",
   "execution_count": 4,
   "metadata": {},
   "outputs": [],
   "source": [
    "train_image_names=list(train_data['image'].values)\n",
    "val_image_names=list(val_data['image'].values)\n",
    "test_image_names=list(test_data['image'].values)"
   ]
  },
  {
   "cell_type": "code",
   "execution_count": 5,
   "metadata": {},
   "outputs": [
    {
     "name": "stdout",
     "output_type": "stream",
     "text": [
      "Processed Images:  10000\n",
      "Processed Images:  20000\n",
      "Processed Images:  30000\n",
      "Processed Images:  40000\n",
      "Processed Images:  50000\n",
      "Processed Images:  60000\n",
      "Processed Images:  70000\n"
     ]
    }
   ],
   "source": [
    "Write_Image_Sizes(train_image_names,'data/data_analysis/Train_image_sizes.csv')"
   ]
  },
  {
   "cell_type": "code",
   "execution_count": 6,
   "metadata": {},
   "outputs": [],
   "source": [
    "Write_Image_Sizes(val_image_names,'data/data_analysis/Val_image_sizes.csv')"
   ]
  },
  {
   "cell_type": "code",
   "execution_count": 7,
   "metadata": {},
   "outputs": [
    {
     "name": "stdout",
     "output_type": "stream",
     "text": [
      "Processed Images:  10000\n"
     ]
    }
   ],
   "source": [
    "Write_Image_Sizes(test_image_names,'data/data_analysis/Test_image_sizes.csv')"
   ]
  },
  {
   "cell_type": "code",
   "execution_count": 8,
   "metadata": {},
   "outputs": [],
   "source": [
    "\n",
    "train_img_size=pd.read_csv('data/data_analysis/Train_image_sizes.csv')\n",
    "val_img_size=pd.read_csv('data/data_analysis/Val_image_sizes.csv')\n",
    "test_img_size=pd.read_csv('data/data_analysis/Test_image_sizes.csv')"
   ]
  },
  {
   "cell_type": "code",
   "execution_count": 9,
   "metadata": {},
   "outputs": [
    {
     "name": "stdout",
     "output_type": "stream",
     "text": [
      "ImageName    0.076678\n",
      "Height       0.076678\n",
      "Width        0.076678\n",
      "dtype: float64\n"
     ]
    }
   ],
   "source": [
    "print(test_img_size[test_img_size[\"Width\"]>480].count() / test_img_size.shape[0])"
   ]
  },
  {
   "cell_type": "code",
   "execution_count": 10,
   "metadata": {},
   "outputs": [
    {
     "name": "stdout",
     "output_type": "stream",
     "text": [
      "Train Images Width 90 percentile : 480.0\n",
      "Train Images Width 91 percentile : 480.0\n",
      "Train Images Width 92 percentile : 480.0\n",
      "Train Images Width 93 percentile : 480.0\n",
      "Train Images Width 94 percentile : 480.0\n",
      "Train Images Width 95 percentile : 480.0\n",
      "Train Images Width 96 percentile : 480.0\n",
      "Train Images Width 97 percentile : 480.0\n",
      "Train Images Width 98 percentile : 480.0\n",
      "Train Images Width 99 percentile : 480.0\n",
      "Train Images Width 100 percentile : 480.0\n",
      "============================================================\n",
      "Validation Images Width 90 percentile : 480.0\n",
      "Validation Images Width 91 percentile : 480.0\n",
      "Validation Images Width 92 percentile : 480.0\n",
      "Validation Images Width 93 percentile : 480.0\n",
      "Validation Images Width 94 percentile : 480.0\n",
      "Validation Images Width 95 percentile : 480.0\n",
      "Validation Images Width 96 percentile : 480.0\n",
      "Validation Images Width 97 percentile : 480.0\n",
      "Validation Images Width 98 percentile : 480.0\n",
      "Validation Images Width 99 percentile : 480.0\n",
      "Validation Images Width 100 percentile : 480.0\n",
      "============================================================\n",
      "Test Images Width 90 percentile : 480.0\n",
      "Test Images Width 91 percentile : 480.0\n",
      "Test Images Width 92 percentile : 480.0\n",
      "Test Images Width 93 percentile : 512.0\n",
      "Test Images Width 94 percentile : 512.0\n",
      "Test Images Width 95 percentile : 800.0\n",
      "Test Images Width 96 percentile : 800.0\n",
      "Test Images Width 97 percentile : 800.0\n",
      "Test Images Width 98 percentile : 800.0\n",
      "Test Images Width 99 percentile : 800.0\n",
      "Test Images Width 100 percentile : 800.0\n"
     ]
    }
   ],
   "source": [
    "for i in range(11):\n",
    "    print(\"Train Images Width \"+str(90+i)+ \" percentile :\",np.percentile(train_img_size['Width'].values,90+i))\n",
    "print(\"=\"*60)\n",
    "for i in range(11):\n",
    "    print(\"Validation Images Width \"+str(90+i)+ \" percentile :\",np.percentile(val_img_size['Width'].values,90+i))\n",
    "print(\"=\"*60)\n",
    "for i in range(11):\n",
    "    print(\"Test Images Width \"+str(90+i)+ \" percentile :\",np.percentile(test_img_size['Width'].values,90+i))\n",
    "   "
   ]
  },
  {
   "cell_type": "code",
   "execution_count": 11,
   "metadata": {},
   "outputs": [
    {
     "name": "stdout",
     "output_type": "stream",
     "text": [
      "Train Images Height 90 percentile : 64.0\n",
      "Train Images Height 91 percentile : 64.0\n",
      "Train Images Height 92 percentile : 64.0\n",
      "Train Images Height 93 percentile : 64.0\n",
      "Train Images Height 94 percentile : 64.0\n",
      "Train Images Height 95 percentile : 64.0\n",
      "Train Images Height 96 percentile : 64.0\n",
      "Train Images Height 97 percentile : 64.0\n",
      "Train Images Height 98 percentile : 64.0\n",
      "Train Images Height 99 percentile : 96.0\n",
      "Train Images Height 100 percentile : 160.0\n",
      "============================================================\n",
      "Validation Images Height 90 percentile : 64.0\n",
      "Validation Images Height 91 percentile : 64.0\n",
      "Validation Images Height 92 percentile : 64.0\n",
      "Validation Images Height 93 percentile : 64.0\n",
      "Validation Images Height 94 percentile : 64.0\n",
      "Validation Images Height 95 percentile : 64.0\n",
      "Validation Images Height 96 percentile : 64.0\n",
      "Validation Images Height 97 percentile : 64.0\n",
      "Validation Images Height 98 percentile : 64.0\n",
      "Validation Images Height 99 percentile : 96.0\n",
      "Validation Images Height 100 percentile : 160.0\n",
      "============================================================\n",
      "Test Images Height 90 percentile : 96.0\n",
      "Test Images Height 91 percentile : 96.0\n",
      "Test Images Height 92 percentile : 128.0\n",
      "Test Images Height 93 percentile : 128.0\n",
      "Test Images Height 94 percentile : 128.0\n",
      "Test Images Height 95 percentile : 128.0\n",
      "Test Images Height 96 percentile : 128.0\n",
      "Test Images Height 97 percentile : 128.0\n",
      "Test Images Height 98 percentile : 128.0\n",
      "Test Images Height 99 percentile : 128.0\n",
      "Test Images Height 100 percentile : 800.0\n"
     ]
    }
   ],
   "source": [
    "for i in range(11):\n",
    "    print(\"Train Images Height \"+str(90+i)+ \" percentile :\",np.percentile(train_img_size['Height'].values,90+i))\n",
    "print(\"=\"*60)\n",
    "for i in range(11):\n",
    "    print(\"Validation Images Height \"+str(90+i)+ \" percentile :\",np.percentile(val_img_size['Height'].values,90+i))\n",
    "print(\"=\"*60)\n",
    "for i in range(11):\n",
    "    print(\"Test Images Height \"+str(90+i)+ \" percentile :\",np.percentile(test_img_size['Height'].values,90+i))\n",
    "   "
   ]
  },
  {
   "cell_type": "markdown",
   "metadata": {},
   "source": [
    "val/train:\n",
    "=> 98% of images have a height of 64 or less and a width of 480 or less\n",
    "=> the smallest images are of size (32, 128) and of height (160, 480)\n"
   ]
  },
  {
   "cell_type": "code",
   "execution_count": 12,
   "metadata": {},
   "outputs": [
    {
     "data": {
      "text/plain": [
       "ImageName    0.0\n",
       "Height       0.0\n",
       "Width        0.0\n",
       "dtype: float64"
      ]
     },
     "execution_count": 12,
     "metadata": {},
     "output_type": "execute_result"
    }
   ],
   "source": [
    "train_img_size[train_img_size[\"Width\"]>480].count() / test_img_size.shape[0]"
   ]
  },
  {
   "cell_type": "code",
   "execution_count": 13,
   "metadata": {},
   "outputs": [
    {
     "data": {
      "text/html": [
       "<div>\n",
       "<style scoped>\n",
       "    .dataframe tbody tr th:only-of-type {\n",
       "        vertical-align: middle;\n",
       "    }\n",
       "\n",
       "    .dataframe tbody tr th {\n",
       "        vertical-align: top;\n",
       "    }\n",
       "\n",
       "    .dataframe thead th {\n",
       "        text-align: right;\n",
       "    }\n",
       "</style>\n",
       "<table border=\"1\" class=\"dataframe\">\n",
       "  <thead>\n",
       "    <tr style=\"text-align: right;\">\n",
       "      <th></th>\n",
       "      <th>Height</th>\n",
       "      <th>Width</th>\n",
       "    </tr>\n",
       "  </thead>\n",
       "  <tbody>\n",
       "    <tr>\n",
       "      <th>count</th>\n",
       "      <td>8370.000000</td>\n",
       "      <td>8370.000000</td>\n",
       "    </tr>\n",
       "    <tr>\n",
       "      <th>mean</th>\n",
       "      <td>52.656631</td>\n",
       "      <td>283.075747</td>\n",
       "    </tr>\n",
       "    <tr>\n",
       "      <th>std</th>\n",
       "      <td>17.190752</td>\n",
       "      <td>108.656045</td>\n",
       "    </tr>\n",
       "    <tr>\n",
       "      <th>min</th>\n",
       "      <td>32.000000</td>\n",
       "      <td>128.000000</td>\n",
       "    </tr>\n",
       "    <tr>\n",
       "      <th>25%</th>\n",
       "      <td>32.000000</td>\n",
       "      <td>192.000000</td>\n",
       "    </tr>\n",
       "    <tr>\n",
       "      <th>50%</th>\n",
       "      <td>64.000000</td>\n",
       "      <td>256.000000</td>\n",
       "    </tr>\n",
       "    <tr>\n",
       "      <th>75%</th>\n",
       "      <td>64.000000</td>\n",
       "      <td>384.000000</td>\n",
       "    </tr>\n",
       "    <tr>\n",
       "      <th>max</th>\n",
       "      <td>160.000000</td>\n",
       "      <td>480.000000</td>\n",
       "    </tr>\n",
       "  </tbody>\n",
       "</table>\n",
       "</div>"
      ],
      "text/plain": [
       "            Height        Width\n",
       "count  8370.000000  8370.000000\n",
       "mean     52.656631   283.075747\n",
       "std      17.190752   108.656045\n",
       "min      32.000000   128.000000\n",
       "25%      32.000000   192.000000\n",
       "50%      64.000000   256.000000\n",
       "75%      64.000000   384.000000\n",
       "max     160.000000   480.000000"
      ]
     },
     "execution_count": 13,
     "metadata": {},
     "output_type": "execute_result"
    }
   ],
   "source": [
    "val_img_size.describe()"
   ]
  },
  {
   "cell_type": "code",
   "execution_count": 14,
   "metadata": {},
   "outputs": [
    {
     "data": {
      "text/html": [
       "<div>\n",
       "<style scoped>\n",
       "    .dataframe tbody tr th:only-of-type {\n",
       "        vertical-align: middle;\n",
       "    }\n",
       "\n",
       "    .dataframe tbody tr th {\n",
       "        vertical-align: top;\n",
       "    }\n",
       "\n",
       "    .dataframe thead th {\n",
       "        text-align: right;\n",
       "    }\n",
       "</style>\n",
       "<table border=\"1\" class=\"dataframe\">\n",
       "  <thead>\n",
       "    <tr style=\"text-align: right;\">\n",
       "      <th></th>\n",
       "      <th>Height</th>\n",
       "      <th>Width</th>\n",
       "    </tr>\n",
       "  </thead>\n",
       "  <tbody>\n",
       "    <tr>\n",
       "      <th>count</th>\n",
       "      <td>75275.000000</td>\n",
       "      <td>75275.000000</td>\n",
       "    </tr>\n",
       "    <tr>\n",
       "      <th>mean</th>\n",
       "      <td>52.868549</td>\n",
       "      <td>281.247586</td>\n",
       "    </tr>\n",
       "    <tr>\n",
       "      <th>std</th>\n",
       "      <td>17.024796</td>\n",
       "      <td>108.426687</td>\n",
       "    </tr>\n",
       "    <tr>\n",
       "      <th>min</th>\n",
       "      <td>32.000000</td>\n",
       "      <td>128.000000</td>\n",
       "    </tr>\n",
       "    <tr>\n",
       "      <th>25%</th>\n",
       "      <td>32.000000</td>\n",
       "      <td>192.000000</td>\n",
       "    </tr>\n",
       "    <tr>\n",
       "      <th>50%</th>\n",
       "      <td>64.000000</td>\n",
       "      <td>256.000000</td>\n",
       "    </tr>\n",
       "    <tr>\n",
       "      <th>75%</th>\n",
       "      <td>64.000000</td>\n",
       "      <td>384.000000</td>\n",
       "    </tr>\n",
       "    <tr>\n",
       "      <th>max</th>\n",
       "      <td>160.000000</td>\n",
       "      <td>480.000000</td>\n",
       "    </tr>\n",
       "  </tbody>\n",
       "</table>\n",
       "</div>"
      ],
      "text/plain": [
       "             Height         Width\n",
       "count  75275.000000  75275.000000\n",
       "mean      52.868549    281.247586\n",
       "std       17.024796    108.426687\n",
       "min       32.000000    128.000000\n",
       "25%       32.000000    192.000000\n",
       "50%       64.000000    256.000000\n",
       "75%       64.000000    384.000000\n",
       "max      160.000000    480.000000"
      ]
     },
     "execution_count": 14,
     "metadata": {},
     "output_type": "execute_result"
    }
   ],
   "source": [
    "train_img_size.describe()"
   ]
  },
  {
   "cell_type": "code",
   "execution_count": 15,
   "metadata": {},
   "outputs": [
    {
     "data": {
      "text/plain": [
       "ImageName    0.087011\n",
       "Height       0.087011\n",
       "Width        0.087011\n",
       "dtype: float64"
      ]
     },
     "execution_count": 15,
     "metadata": {},
     "output_type": "execute_result"
    }
   ],
   "source": [
    "test_img_size[test_img_size[\"Height\"]>96].count() / test_img_size.shape[0]"
   ]
  },
  {
   "cell_type": "code",
   "execution_count": 16,
   "metadata": {},
   "outputs": [
    {
     "data": {
      "text/plain": [
       "ImageName    0.076678\n",
       "Height       0.076678\n",
       "Width        0.076678\n",
       "dtype: float64"
      ]
     },
     "execution_count": 16,
     "metadata": {},
     "output_type": "execute_result"
    }
   ],
   "source": [
    "test_img_size[test_img_size[\"Width\"]>480].count() / test_img_size.shape[0]"
   ]
  },
  {
   "cell_type": "markdown",
   "metadata": {},
   "source": [
    "test:\n",
    "=> 1% of the images are larger than (800, 128) (only 0.4%)\n",
    "=> 8.7% of the images have a with of more than 96\n",
    "=> 7.6% of the images have a width of more than 480"
   ]
  },
  {
   "cell_type": "code",
   "execution_count": 17,
   "metadata": {},
   "outputs": [
    {
     "data": {
      "text/html": [
       "<div>\n",
       "<style scoped>\n",
       "    .dataframe tbody tr th:only-of-type {\n",
       "        vertical-align: middle;\n",
       "    }\n",
       "\n",
       "    .dataframe tbody tr th {\n",
       "        vertical-align: top;\n",
       "    }\n",
       "\n",
       "    .dataframe thead th {\n",
       "        text-align: right;\n",
       "    }\n",
       "</style>\n",
       "<table border=\"1\" class=\"dataframe\">\n",
       "  <thead>\n",
       "    <tr style=\"text-align: right;\">\n",
       "      <th></th>\n",
       "      <th>Height</th>\n",
       "      <th>Width</th>\n",
       "    </tr>\n",
       "  </thead>\n",
       "  <tbody>\n",
       "    <tr>\n",
       "      <th>count</th>\n",
       "      <td>10355.000000</td>\n",
       "      <td>10355.000000</td>\n",
       "    </tr>\n",
       "    <tr>\n",
       "      <th>mean</th>\n",
       "      <td>60.647030</td>\n",
       "      <td>318.621729</td>\n",
       "    </tr>\n",
       "    <tr>\n",
       "      <th>std</th>\n",
       "      <td>41.887919</td>\n",
       "      <td>159.238145</td>\n",
       "    </tr>\n",
       "    <tr>\n",
       "      <th>min</th>\n",
       "      <td>32.000000</td>\n",
       "      <td>128.000000</td>\n",
       "    </tr>\n",
       "    <tr>\n",
       "      <th>25%</th>\n",
       "      <td>32.000000</td>\n",
       "      <td>192.000000</td>\n",
       "    </tr>\n",
       "    <tr>\n",
       "      <th>50%</th>\n",
       "      <td>64.000000</td>\n",
       "      <td>320.000000</td>\n",
       "    </tr>\n",
       "    <tr>\n",
       "      <th>75%</th>\n",
       "      <td>64.000000</td>\n",
       "      <td>384.000000</td>\n",
       "    </tr>\n",
       "    <tr>\n",
       "      <th>max</th>\n",
       "      <td>800.000000</td>\n",
       "      <td>800.000000</td>\n",
       "    </tr>\n",
       "  </tbody>\n",
       "</table>\n",
       "</div>"
      ],
      "text/plain": [
       "             Height         Width\n",
       "count  10355.000000  10355.000000\n",
       "mean      60.647030    318.621729\n",
       "std       41.887919    159.238145\n",
       "min       32.000000    128.000000\n",
       "25%       32.000000    192.000000\n",
       "50%       64.000000    320.000000\n",
       "75%       64.000000    384.000000\n",
       "max      800.000000    800.000000"
      ]
     },
     "execution_count": 17,
     "metadata": {},
     "output_type": "execute_result"
    }
   ],
   "source": [
    "test_img_size.describe()"
   ]
  },
  {
   "cell_type": "markdown",
   "metadata": {},
   "source": [
    "=> good image size (480, 96) with this we would have to crop (or drop) 10% of the test images \n",
    "=> from taking a look at the pictures it becomes evident, that almost all of them have to much padding on the bottom or on the right hand side of the image"
   ]
  },
  {
   "cell_type": "code",
   "execution_count": 18,
   "metadata": {},
   "outputs": [],
   "source": [
    "WIDTH = 480\n",
    "HEIGHT = 96"
   ]
  },
  {
   "cell_type": "code",
   "execution_count": 21,
   "metadata": {},
   "outputs": [],
   "source": [
    "def save_new_image(dataset,save_dir):\n",
    "    \"\"\"\n",
    "    Takes the image name and saves the image in the save_dir\n",
    "    \"\"\"\n",
    "    for image_name in dataset['image'].values:\n",
    "        img=cv2.imread(\"archive/formula_images_processed/formula_images_processed/\" + image_name)\n",
    "        img_height, img_width=img.shape[0],img.shape[1]\n",
    "\n",
    "        if img_height / img_width < HEIGHT / WIDTH:\n",
    "            new_height = HEIGHT / WIDTH * img_width\n",
    "            pad = (new_height - img_height) / 2\n",
    "            img_padded= cv2.copyMakeBorder(img, math.ceil(pad), math.floor(pad), 0, 0, cv2.BORDER_CONSTANT, value=[255, 255, 255])\n",
    "\n",
    "        if img_height / img_width > HEIGHT / WIDTH:\n",
    "            new_width = img_height * WIDTH / HEIGHT\n",
    "            pad = (new_width - img_height)\n",
    "            img_padded= cv2.copyMakeBorder(img, 0, 0 , math.ceil(pad),math.floor(pad), cv2.BORDER_CONSTANT, value=[255, 255, 255])\n",
    "\n",
    "        img_rescaled = img_padded #img_padded / (255 / 2) - 1 # Rescale to [-1, 1]\n",
    "        img_resize = cv2.resize(img_rescaled, [WIDTH, HEIGHT])\n",
    "\n",
    "        cv2.imwrite(save_dir + image_name, img_resize)\n",
    "\n",
    "        \n"
   ]
  },
  {
   "cell_type": "code",
   "execution_count": 22,
   "metadata": {},
   "outputs": [],
   "source": [
    "save_new_image(train_data,'data/train_images/')\n"
   ]
  }
 ],
 "metadata": {
  "kernelspec": {
   "display_name": "Python 3",
   "language": "python",
   "name": "python3"
  },
  "language_info": {
   "codemirror_mode": {
    "name": "ipython",
    "version": 3
   },
   "file_extension": ".py",
   "mimetype": "text/x-python",
   "name": "python",
   "nbconvert_exporter": "python",
   "pygments_lexer": "ipython3",
   "version": "3.9.6"
  }
 },
 "nbformat": 4,
 "nbformat_minor": 2
}
